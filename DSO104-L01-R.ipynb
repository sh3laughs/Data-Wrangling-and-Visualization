{
 "cells": [
  {
   "cell_type": "markdown",
   "id": "be38ab7c-41bc-4c23-a494-5522ca757a72",
   "metadata": {
    "tags": []
   },
   "source": [
    "## DSO104 - Data Wrangling and Visualization\n",
    "### Lesson 1 - Manipulating Columns and Rows\n",
    "______________\n",
    "#### Page 1 - Introduction\n",
    "\n",
    "**R**\n",
    "\n",
    "*From Workshop*"
   ]
  },
  {
   "cell_type": "code",
   "execution_count": null,
   "id": "d5cbdced-55a8-4502-a688-32422252a055",
   "metadata": {},
   "outputs": [],
   "source": [
    "volcanoes = read.csv('/Users/hannah/Library/CloudStorage/GoogleDrive-gracesnouveaux@gmail.com/My Drive/Bethel Tech/Data Science/GitHub/DS-Student-Resources/DS104-Data-Wrangling-and-Visualization/Workshops/Week-1/02-Data-Wrangling-in-Python/volcanoes.csv')"
   ]
  },
  {
   "cell_type": "code",
   "execution_count": null,
   "id": "d0d21d8e-fafd-4f3c-bc0a-b7bfbbff6d9d",
   "metadata": {},
   "outputs": [],
   "source": [
    "View(volcanoes)"
   ]
  },
  {
   "cell_type": "code",
   "execution_count": null,
   "id": "4a606551-ae40-40d3-ae68-1ff8359f63f9",
   "metadata": {},
   "outputs": [],
   "source": []
  },
  {
   "cell_type": "code",
   "execution_count": null,
   "id": "8fb93c08-ee6c-4752-9982-d12090d2969f",
   "metadata": {},
   "outputs": [],
   "source": []
  }
 ],
 "metadata": {
  "kernelspec": {
   "display_name": "R",
   "language": "R",
   "name": "ir"
  },
  "language_info": {
   "codemirror_mode": {
    "name": "ipython",
    "version": 3
   },
   "file_extension": ".py",
   "mimetype": "text/x-python",
   "name": "python",
   "nbconvert_exporter": "python",
   "pygments_lexer": "ipython3",
   "version": "3.9.13"
  }
 },
 "nbformat": 4,
 "nbformat_minor": 5
}
